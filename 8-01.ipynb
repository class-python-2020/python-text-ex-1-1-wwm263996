{
 "metadata": {
  "language_info": {
   "codemirror_mode": {
    "name": "ipython",
    "version": 3
   },
   "file_extension": ".py",
   "mimetype": "text/x-python",
   "name": "python",
   "nbconvert_exporter": "python",
   "pygments_lexer": "ipython3",
   "version": "3.8.2-final"
  },
  "orig_nbformat": 2,
  "kernelspec": {
   "name": "python_defaultSpec_1597409048040",
   "display_name": "Python 3.8.2 32-bit"
  }
 },
 "nbformat": 4,
 "nbformat_minor": 2,
 "cells": [
  {
   "cell_type": "code",
   "execution_count": 31,
   "metadata": {},
   "outputs": [
    {
     "output_type": "execute_result",
     "data": {
      "text/plain": "'C:\\\\Users\\\\wang\\\\AppData\\\\Local\\\\Programs\\\\Python\\\\Python38-32\\\\lib\\\\random.py'"
     },
     "metadata": {},
     "execution_count": 31
    }
   ],
   "source": [
    "import random\n",
    "path_to_random = random.__file__\n",
    "path_to_random\n"
   ]
  },
  {
   "cell_type": "code",
   "execution_count": 32,
   "metadata": {},
   "outputs": [],
   "source": [
    "import os\n"
   ]
  },
  {
   "cell_type": "code",
   "execution_count": 33,
   "metadata": {},
   "outputs": [
    {
     "output_type": "execute_result",
     "data": {
      "text/plain": "True"
     },
     "metadata": {},
     "execution_count": 33
    }
   ],
   "source": [
    "os.path.exists(path_to_random)"
   ]
  },
  {
   "cell_type": "code",
   "execution_count": 34,
   "metadata": {},
   "outputs": [
    {
     "output_type": "execute_result",
     "data": {
      "text/plain": "False"
     },
     "metadata": {},
     "execution_count": 34
    }
   ],
   "source": [
    "os.path.isdir(path_to_random)"
   ]
  },
  {
   "cell_type": "code",
   "execution_count": 35,
   "metadata": {},
   "outputs": [
    {
     "output_type": "execute_result",
     "data": {
      "text/plain": "True"
     },
     "metadata": {},
     "execution_count": 35
    }
   ],
   "source": [
    "os.path.isfile(path_to_random)"
   ]
  },
  {
   "cell_type": "code",
   "execution_count": 36,
   "metadata": {},
   "outputs": [
    {
     "output_type": "execute_result",
     "data": {
      "text/plain": "'C:\\\\Users\\\\wang\\\\AppData\\\\Local\\\\Programs\\\\Python\\\\Python38-32\\\\lib'"
     },
     "metadata": {},
     "execution_count": 36
    }
   ],
   "source": [
    "parent_path_name = os.path.dirname(path_to_random)\n",
    "parent_path_name"
   ]
  },
  {
   "cell_type": "code",
   "execution_count": 37,
   "metadata": {},
   "outputs": [
    {
     "output_type": "execute_result",
     "data": {
      "text/plain": "'random.py'"
     },
     "metadata": {},
     "execution_count": 37
    }
   ],
   "source": [
    "os.path.basename(path_to_random)"
   ]
  },
  {
   "cell_type": "code",
   "execution_count": 38,
   "metadata": {},
   "outputs": [
    {
     "output_type": "execute_result",
     "data": {
      "text/plain": "('C:\\\\Users\\\\wang\\\\AppData\\\\Local\\\\Programs\\\\Python\\\\Python38-32\\\\lib',\n 'random.py')"
     },
     "metadata": {},
     "execution_count": 38
    }
   ],
   "source": [
    "dir_path_name,file_name = os.path.split(path_to_random)\n",
    "dir_path_name,file_name"
   ]
  },
  {
   "cell_type": "code",
   "execution_count": 39,
   "metadata": {},
   "outputs": [
    {
     "output_type": "execute_result",
     "data": {
      "text/plain": "'C:\\\\Users\\\\wang\\\\AppData\\\\Local\\\\Programs\\\\Python\\\\Python38-32\\\\lib\\\\random.py'"
     },
     "metadata": {},
     "execution_count": 39
    }
   ],
   "source": [
    "os.path.join(dir_path_name,file_name)"
   ]
  },
  {
   "cell_type": "code",
   "execution_count": 40,
   "metadata": {},
   "outputs": [
    {
     "output_type": "execute_result",
     "data": {
      "text/plain": "29617"
     },
     "metadata": {},
     "execution_count": 40
    }
   ],
   "source": [
    "os.path.getsize(path_to_random)"
   ]
  },
  {
   "cell_type": "code",
   "execution_count": 41,
   "metadata": {
    "tags": []
   },
   "outputs": [
    {
     "output_type": "stream",
     "name": "stdout",
     "text": "os.getcwd(): c:\\Users\\wang\\Documents\\GitHub\\python-text-ex-1-1-wwm263996\n"
    }
   ],
   "source": [
    "initial_dir = os.getcwd()\n",
    "print('os.getcwd():',initial_dir)"
   ]
  },
  {
   "cell_type": "code",
   "execution_count": 42,
   "metadata": {},
   "outputs": [],
   "source": [
    "my_dir = \"os_practice\"\n",
    "os.mkdir(my_dir)"
   ]
  },
  {
   "cell_type": "code",
   "execution_count": 43,
   "metadata": {},
   "outputs": [],
   "source": [
    "os.chdir(my_dir)"
   ]
  },
  {
   "cell_type": "code",
   "execution_count": 44,
   "metadata": {
    "tags": []
   },
   "outputs": [
    {
     "output_type": "stream",
     "name": "stdout",
     "text": "os.getcwd(): c:\\Users\\wang\\Documents\\GitHub\\python-text-ex-1-1-wwm263996\\os_practice\n"
    }
   ],
   "source": [
    "print('os.getcwd():',os.getcwd())"
   ]
  },
  {
   "cell_type": "code",
   "execution_count": 45,
   "metadata": {},
   "outputs": [],
   "source": [
    "file_name = \"os_test.txt\"\n",
    "with open(file_name,\"w\")as f:\n",
    "    f.write(\"Live in the present.\")"
   ]
  },
  {
   "cell_type": "code",
   "execution_count": 46,
   "metadata": {
    "tags": []
   },
   "outputs": [
    {
     "output_type": "stream",
     "name": "stdout",
     "text": "os.listdir(): ['os_test.txt']\n"
    }
   ],
   "source": [
    "print(\"os.listdir():\",os.listdir())"
   ]
  },
  {
   "cell_type": "code",
   "execution_count": 47,
   "metadata": {},
   "outputs": [],
   "source": [
    "new_file_name = \"new_os_test.txt\"\n",
    "os.rename(file_name,new_file_name)"
   ]
  },
  {
   "cell_type": "code",
   "execution_count": 48,
   "metadata": {
    "tags": []
   },
   "outputs": [
    {
     "output_type": "stream",
     "name": "stdout",
     "text": "os.listdir(): ['new_os_test.txt']\n"
    }
   ],
   "source": [
    "print(\"os.listdir():\",os.listdir())"
   ]
  },
  {
   "cell_type": "code",
   "execution_count": 49,
   "metadata": {},
   "outputs": [],
   "source": [
    "os.remove(new_file_name)"
   ]
  },
  {
   "cell_type": "code",
   "execution_count": 50,
   "metadata": {
    "tags": []
   },
   "outputs": [
    {
     "output_type": "stream",
     "name": "stdout",
     "text": "os.listdir(): []\n"
    }
   ],
   "source": [
    "print(\"os.listdir():\",os.listdir())"
   ]
  },
  {
   "cell_type": "code",
   "execution_count": 51,
   "metadata": {},
   "outputs": [],
   "source": [
    "os.chdir(initial_dir)"
   ]
  },
  {
   "cell_type": "code",
   "execution_count": 52,
   "metadata": {
    "tags": []
   },
   "outputs": [
    {
     "output_type": "stream",
     "name": "stdout",
     "text": "os.getcwd(): c:\\Users\\wang\\Documents\\GitHub\\python-text-ex-1-1-wwm263996\n"
    }
   ],
   "source": [
    "print(\"os.getcwd():\",os.getcwd())"
   ]
  },
  {
   "cell_type": "code",
   "execution_count": 53,
   "metadata": {},
   "outputs": [],
   "source": [
    "os.rmdir(my_dir)"
   ]
  },
  {
   "cell_type": "code",
   "execution_count": 54,
   "metadata": {},
   "outputs": [
    {
     "output_type": "execute_result",
     "data": {
      "text/plain": "False"
     },
     "metadata": {},
     "execution_count": 54
    }
   ],
   "source": [
    "os.path.exists(my_dir)"
   ]
  },
  {
   "cell_type": "code",
   "execution_count": 55,
   "metadata": {
    "tags": []
   },
   "outputs": [
    {
     "output_type": "stream",
     "name": "stdout",
     "text": "os.getcwd(): c:\\Users\\wang\\Documents\\GitHub\\python-text-ex-1-1-wwm263996\n"
    }
   ],
   "source": [
    "os.system('mkdir today')\n",
    "print(\"os.getcwd():\",os.getcwd())"
   ]
  },
  {
   "cell_type": "code",
   "execution_count": 56,
   "metadata": {
    "tags": []
   },
   "outputs": [
    {
     "output_type": "stream",
     "name": "stdout",
     "text": "ディレクトリ　today があります。これを消去します。\nディレクトリ　today を消去しました。\n"
    }
   ],
   "source": [
    "if os.path.exists(\"today\"):\n",
    "    print(\"ディレクトリ　today があります。これを消去します。\")\n",
    "    os.rmdir(\"today\")\n",
    "    print(\"ディレクトリ　today を消去しました。\")"
   ]
  },
  {
   "cell_type": "code",
   "execution_count": 57,
   "metadata": {
    "tags": []
   },
   "outputs": [
    {
     "output_type": "stream",
     "name": "stdout",
     "text": "environ({'ALLUSERSPROFILE': 'C:\\\\ProgramData', 'AMD_ENTRYPOINT': 'vs/workbench/services/extensions/node/extensionHostProcess', 'APPDATA': 'C:\\\\Users\\\\wang\\\\AppData\\\\Roaming', 'APPLICATION_INSIGHTS_NO_DIAGNOSTIC_CHANNEL': 'true', 'COMMONPROGRAMFILES': 'C:\\\\Program Files (x86)\\\\Common Files', 'COMMONPROGRAMFILES(X86)': 'C:\\\\Program Files (x86)\\\\Common Files', 'COMMONPROGRAMW6432': 'C:\\\\Program Files\\\\Common Files', 'COMPUTERNAME': 'LAPTOP-1BIJFLML', 'COMSPEC': 'C:\\\\Windows\\\\system32\\\\cmd.exe', 'DRIVERDATA': 'C:\\\\Windows\\\\System32\\\\Drivers\\\\DriverData', 'ELECTRON_RUN_AS_NODE': '1', 'FPS_BROWSER_APP_PROFILE_STRING': 'Internet Explorer', 'FPS_BROWSER_USER_PROFILE_STRING': 'Default', 'HOMEDRIVE': 'C:', 'HOMEPATH': '\\\\Users\\\\wang', 'LOCALAPPDATA': 'C:\\\\Users\\\\wang\\\\AppData\\\\Local', 'LOGONSERVER': '\\\\\\\\LAPTOP-1BIJFLML', 'NUMBER_OF_PROCESSORS': '8', 'ONEDRIVE': 'C:\\\\Users\\\\wang\\\\OneDrive', 'ORIGINAL_XDG_CURRENT_DESKTOP': 'undefined', 'OS': 'Windows_NT', 'PATH': 'C:\\\\Windows\\\\system32;C:\\\\Windows;C:\\\\Windows\\\\System32\\\\Wbem;C:\\\\Windows\\\\System32\\\\WindowsPowerShell\\\\v1.0\\\\;C:\\\\Windows\\\\System32\\\\OpenSSH\\\\;C:\\\\Program Files\\\\Intel\\\\WiFi\\\\bin\\\\;C:\\\\Program Files\\\\Common Files\\\\Intel\\\\WirelessCommon\\\\;C:\\\\Program Files\\\\MySQL\\\\MySQL Server 5.7\\\\bin;C:\\\\Program Files\\\\Git\\\\cmd;C:\\\\Program Files\\\\MySQL\\\\MySQL Shell 8.0\\\\bin\\\\;C:\\\\Users\\\\wang\\\\AppData\\\\Local\\\\Programs\\\\Python\\\\Python38-32\\\\Scripts\\\\;C:\\\\Users\\\\wang\\\\AppData\\\\Local\\\\Programs\\\\Python\\\\Python38-32\\\\;C:\\\\Users\\\\wang\\\\AppData\\\\Local\\\\Microsoft\\\\WindowsApps;;C:\\\\Users\\\\wang\\\\AppData\\\\Local\\\\Programs\\\\Microsoft VS Code\\\\bin', 'PATHEXT': '.COM;.EXE;.BAT;.CMD;.VBS;.VBE;.JS;.JSE;.WSF;.WSH;.MSC', 'PIPE_LOGGING': 'true', 'PROCESSOR_ARCHITECTURE': 'x86', 'PROCESSOR_ARCHITEW6432': 'AMD64', 'PROCESSOR_IDENTIFIER': 'Intel64 Family 6 Model 142 Stepping 10, GenuineIntel', 'PROCESSOR_LEVEL': '6', 'PROCESSOR_REVISION': '8e0a', 'PROGRAMDATA': 'C:\\\\ProgramData', 'PROGRAMFILES': 'C:\\\\Program Files (x86)', 'PROGRAMFILES(X86)': 'C:\\\\Program Files (x86)', 'PROGRAMW6432': 'C:\\\\Program Files', 'PSMODULEPATH': 'C:\\\\Program Files\\\\WindowsPowerShell\\\\Modules;C:\\\\Windows\\\\system32\\\\WindowsPowerShell\\\\v1.0\\\\Modules', 'PUBLIC': 'C:\\\\Users\\\\Public', 'PYTHONIOENCODING': 'utf-8', 'PYTHONPATH': 'c:\\\\Users\\\\wang\\\\.vscode\\\\extensions\\\\ms-python.python-2020.8.101144\\\\pythonFiles;c:\\\\Users\\\\wang\\\\.vscode\\\\extensions\\\\ms-python.python-2020.8.101144\\\\pythonFiles\\\\lib\\\\python', 'PYTHONUNBUFFERED': '1', 'PYTHONWARNINGS': 'ignore', 'SESSIONNAME': 'Console', 'SYSTEMDRIVE': 'C:', 'SYSTEMROOT': 'C:\\\\Windows', 'TEMP': 'C:\\\\Users\\\\wang\\\\AppData\\\\Local\\\\Temp', 'TMP': 'C:\\\\Users\\\\wang\\\\AppData\\\\Local\\\\Temp', 'USERDOMAIN': 'LAPTOP-1BIJFLML', 'USERDOMAIN_ROAMINGPROFILE': 'LAPTOP-1BIJFLML', 'USERNAME': 'wang', 'USERPROFILE': 'C:\\\\Users\\\\wang', 'VERBOSE_LOGGING': 'true', 'VSCODE_CWD': 'C:\\\\Users\\\\wang\\\\AppData\\\\Local\\\\Programs\\\\Microsoft VS Code', 'VSCODE_HANDLES_UNCAUGHT_ERRORS': 'true', 'VSCODE_IPC_HOOK': '\\\\\\\\.\\\\pipe\\\\772be6a35eaeb3fe94b9ff3b5d51b9a0-1.48.0-main-sock', 'VSCODE_IPC_HOOK_EXTHOST': '\\\\\\\\.\\\\pipe\\\\vscode-ipc-04562623-daa6-4571-a83b-90d13f493aac-sock', 'VSCODE_LOGS': 'C:\\\\Users\\\\wang\\\\AppData\\\\Roaming\\\\Code\\\\logs\\\\20200814T214351', 'VSCODE_LOG_STACK': 'false', 'VSCODE_NLS_CONFIG': '{\"locale\":\"ja\",\"availableLanguages\":{\"*\":\"ja\"},\"_languagePackId\":\"dd52f73be7f9d88e655b23417fa0c1aa.ja\",\"_translationsConfigFile\":\"C:\\\\\\\\Users\\\\\\\\wang\\\\\\\\AppData\\\\\\\\Roaming\\\\\\\\Code\\\\\\\\clp\\\\\\\\dd52f73be7f9d88e655b23417fa0c1aa.ja\\\\\\\\tcf.json\",\"_cacheRoot\":\"C:\\\\\\\\Users\\\\\\\\wang\\\\\\\\AppData\\\\\\\\Roaming\\\\\\\\Code\\\\\\\\clp\\\\\\\\dd52f73be7f9d88e655b23417fa0c1aa.ja\",\"_resolvedLanguagePackCoreLocation\":\"C:\\\\\\\\Users\\\\\\\\wang\\\\\\\\AppData\\\\\\\\Roaming\\\\\\\\Code\\\\\\\\clp\\\\\\\\dd52f73be7f9d88e655b23417fa0c1aa.ja\\\\\\\\db40434f562994116e5b21c24015a2e40b2504e6\",\"_corruptedFile\":\"C:\\\\\\\\Users\\\\\\\\wang\\\\\\\\AppData\\\\\\\\Roaming\\\\\\\\Code\\\\\\\\clp\\\\\\\\dd52f73be7f9d88e655b23417fa0c1aa.ja\\\\\\\\corrupted.info\",\"_languagePackSupport\":true}', 'VSCODE_NODE_CACHED_DATA_DIR': 'C:\\\\Users\\\\wang\\\\AppData\\\\Roaming\\\\Code\\\\CachedData\\\\db40434f562994116e5b21c24015a2e40b2504e6', 'VSCODE_PID': '2896', 'WINDIR': 'C:\\\\Windows', 'JPY_INTERRUPT_EVENT': '580', 'IPY_INTERRUPT_EVENT': '580', 'JPY_PARENT_PID': '604', 'TERM': 'xterm-color', 'CLICOLOR': '1', 'PAGER': 'cat', 'GIT_PAGER': 'cat', 'MPLBACKEND': 'module://ipykernel.pylab.backend_inline'})\n"
    }
   ],
   "source": [
    "print(os.environ)"
   ]
  },
  {
   "cell_type": "code",
   "execution_count": 61,
   "metadata": {},
   "outputs": [
    {
     "output_type": "error",
     "ename": "KeyError",
     "evalue": "'HOME'",
     "traceback": [
      "\u001b[1;31m---------------------------------------------------------------------------\u001b[0m",
      "\u001b[1;31mKeyError\u001b[0m                                  Traceback (most recent call last)",
      "\u001b[1;32m<ipython-input-61-09d8fbcde125>\u001b[0m in \u001b[0;36m<module>\u001b[1;34m\u001b[0m\n\u001b[1;32m----> 1\u001b[1;33m \u001b[0mos\u001b[0m\u001b[1;33m.\u001b[0m\u001b[0menviron\u001b[0m\u001b[1;33m[\u001b[0m\u001b[1;34m\"HOME\"\u001b[0m\u001b[1;33m]\u001b[0m\u001b[1;33m\u001b[0m\u001b[1;33m\u001b[0m\u001b[0m\n\u001b[0m",
      "\u001b[1;32m~\\AppData\\Local\\Programs\\Python\\Python38-32\\lib\\os.py\u001b[0m in \u001b[0;36m__getitem__\u001b[1;34m(self, key)\u001b[0m\n\u001b[0;32m    673\u001b[0m         \u001b[1;32mexcept\u001b[0m \u001b[0mKeyError\u001b[0m\u001b[1;33m:\u001b[0m\u001b[1;33m\u001b[0m\u001b[1;33m\u001b[0m\u001b[0m\n\u001b[0;32m    674\u001b[0m             \u001b[1;31m# raise KeyError with the original key value\u001b[0m\u001b[1;33m\u001b[0m\u001b[1;33m\u001b[0m\u001b[1;33m\u001b[0m\u001b[0m\n\u001b[1;32m--> 675\u001b[1;33m             \u001b[1;32mraise\u001b[0m \u001b[0mKeyError\u001b[0m\u001b[1;33m(\u001b[0m\u001b[0mkey\u001b[0m\u001b[1;33m)\u001b[0m \u001b[1;32mfrom\u001b[0m \u001b[1;32mNone\u001b[0m\u001b[1;33m\u001b[0m\u001b[1;33m\u001b[0m\u001b[0m\n\u001b[0m\u001b[0;32m    676\u001b[0m         \u001b[1;32mreturn\u001b[0m \u001b[0mself\u001b[0m\u001b[1;33m.\u001b[0m\u001b[0mdecodevalue\u001b[0m\u001b[1;33m(\u001b[0m\u001b[0mvalue\u001b[0m\u001b[1;33m)\u001b[0m\u001b[1;33m\u001b[0m\u001b[1;33m\u001b[0m\u001b[0m\n\u001b[0;32m    677\u001b[0m \u001b[1;33m\u001b[0m\u001b[0m\n",
      "\u001b[1;31mKeyError\u001b[0m: 'HOME'"
     ]
    }
   ],
   "source": [
    "os.environ[\"HOME\"]"
   ]
  },
  {
   "cell_type": "code",
   "execution_count": 62,
   "metadata": {},
   "outputs": [],
   "source": [
    "os.getenv(\"HOME\")"
   ]
  },
  {
   "cell_type": "code",
   "execution_count": 63,
   "metadata": {},
   "outputs": [],
   "source": [
    "import os\n",
    "def prepare_dir(dir_name=\"save_dir\"):\n",
    "    if os.path.exists(dir_name):\n",
    "        print(\"ディレクトリ'{}'が存在します。\".format(dir_name))\n",
    "    else:\n",
    "        os.mkdir(dir_name)\n",
    "        print(\"ディレクトリ'{}'を作成します。\".format(dir_name))"
   ]
  },
  {
   "cell_type": "code",
   "execution_count": 64,
   "metadata": {
    "tags": []
   },
   "outputs": [
    {
     "output_type": "stream",
     "name": "stdout",
     "text": "ディレクトリ'save_dir'を作成します。\n"
    }
   ],
   "source": [
    "prepare_dir()"
   ]
  },
  {
   "cell_type": "code",
   "execution_count": 65,
   "metadata": {
    "tags": []
   },
   "outputs": [
    {
     "output_type": "stream",
     "name": "stdout",
     "text": "ディレクトリ'save_dir'が存在します。\n"
    }
   ],
   "source": [
    "prepare_dir()"
   ]
  },
  {
   "cell_type": "code",
   "execution_count": 66,
   "metadata": {},
   "outputs": [],
   "source": [
    "import os\n",
    "\n",
    "def delete_dir(dir_name=\"save_dir\"):\n",
    "    if os.path.exists(dir_name):\n",
    "        print(\"ディレクトリ'{}'が存在します。\".format(dir_name))\n",
    "        os.rmdir(dir_name)\n",
    "        print(\"ディレクトリ'{}'を消去しました。\".format(dir_name))\n",
    "    else:\n",
    "        print(\"ディレクトリ'{}'はありません。\".format(dir_name))"
   ]
  },
  {
   "cell_type": "code",
   "execution_count": 67,
   "metadata": {
    "tags": []
   },
   "outputs": [
    {
     "output_type": "stream",
     "name": "stdout",
     "text": "ディレクトリ'save_dir'が存在します。\nディレクトリ'save_dir'を消去しました。\n"
    }
   ],
   "source": [
    "delete_dir()"
   ]
  },
  {
   "cell_type": "code",
   "execution_count": 68,
   "metadata": {
    "tags": []
   },
   "outputs": [
    {
     "output_type": "stream",
     "name": "stdout",
     "text": "ディレクトリ'save_dir'はありません。\n"
    }
   ],
   "source": [
    "delete_dir()"
   ]
  },
  {
   "cell_type": "code",
   "execution_count": null,
   "metadata": {},
   "outputs": [],
   "source": []
  }
 ]
}